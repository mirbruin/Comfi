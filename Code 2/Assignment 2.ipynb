{
 "cells": [
  {
   "cell_type": "code",
   "execution_count": 1,
   "metadata": {},
   "outputs": [],
   "source": [
    "%matplotlib inline\n",
    "import math\n",
    "import matplotlib.pyplot as plt\n",
    "import pandas as pd\n",
    "import numpy as np\n",
    "import scipy.stats as ss"
   ]
  },
  {
   "cell_type": "code",
   "execution_count": 57,
   "metadata": {},
   "outputs": [],
   "source": [
    "#input parameters\n",
    "S_0 = 100                                   #asset price at t=0\n",
    "K = 99                                      #Strike price\n",
    "optionType = \"PUT\"                         #Call or put option; \"CALL\" for call option, \"PUT\" for put option\n",
    "optionKind = \"EUR\"                          #American or European option; \"EUR\" or \"US\"\n",
    "Bermudan = \"OFF\"                            #Bermudan option ON or OFF\n",
    "r = .06                                     #yearly interest rate\n",
    "T = 1                                       #total period in years\n",
    "steps = 50                                  #amount of steps                            #step duration\n",
    "vol = 0.2                                   #volatility\n",
    "M=3000"
   ]
  },
  {
   "cell_type": "code",
   "execution_count": 67,
   "metadata": {},
   "outputs": [
    {
     "name": "stdout",
     "output_type": "stream",
     "text": [
      "-6.371441541601493\n"
     ]
    }
   ],
   "source": [
    "def Euler(S_0,r,T,steps,vol):\n",
    "    dt = T/steps\n",
    "    S=S_0 + S_0*(r*dt+vol*np.sqrt(dt)*np.random.normal(0,1))\n",
    "    i=0\n",
    "    while i < (steps-1):\n",
    "        S=S + S*(r*dt+vol*np.sqrt(dt)*np.random.normal(0,1))\n",
    "        i += 1\n",
    "    return S\n",
    "\n",
    "def optionPrice(S_0, r, T, steps, vol, M):\n",
    "    total = 0\n",
    "    for j in range(M):\n",
    "        S=Euler(S_0,r,T,steps,vol)\n",
    "        total+=K-S\n",
    "    V = np.exp(-r*T)*(total/M)\n",
    "    return V\n",
    "\n",
    "print(optionPrice(S_0, r, T, steps, vol, M))\n",
    "    "
   ]
  },
  {
   "cell_type": "code",
   "execution_count": null,
   "metadata": {},
   "outputs": [],
   "source": [
    "print(S_0*np.exp())"
   ]
  }
 ],
 "metadata": {
  "kernelspec": {
   "display_name": "Python 3",
   "language": "python",
   "name": "python3"
  },
  "language_info": {
   "codemirror_mode": {
    "name": "ipython",
    "version": 3
   },
   "file_extension": ".py",
   "mimetype": "text/x-python",
   "name": "python",
   "nbconvert_exporter": "python",
   "pygments_lexer": "ipython3",
   "version": "3.6.4"
  }
 },
 "nbformat": 4,
 "nbformat_minor": 2
}
