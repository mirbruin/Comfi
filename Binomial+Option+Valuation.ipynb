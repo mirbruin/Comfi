{
 "cells": [
  {
   "cell_type": "markdown",
   "metadata": {},
   "source": [
    "### Importing needed packages"
   ]
  },
  {
   "cell_type": "code",
   "execution_count": 1,
   "metadata": {},
   "outputs": [],
   "source": [
    "import math\n",
    "import matplotlib.pyplot as plt"
   ]
  },
  {
   "cell_type": "markdown",
   "metadata": {},
   "source": [
    "### Setting up parameters"
   ]
  },
  {
   "cell_type": "code",
   "execution_count": 20,
   "metadata": {},
   "outputs": [
    {
     "name": "stdout",
     "output_type": "stream",
     "text": [
      "0.02\n"
     ]
    }
   ],
   "source": [
    "#input parameters\n",
    "S_0 = 100                                   #asset price at t=0\n",
    "K = 99                                      #Strike price\n",
    "optionType = \"CALL\"                         #Call or put option; \"CALL\" for call option, \"PUT\" for put option\n",
    "optionKind = \"EUR\"                          #American or European option; \"EUR\" or \"US\"\n",
    "r = .06                                     #yearly interest rate\n",
    "T = 1                                       #total period in years\n",
    "steps = 50                                  #amount of steps\n",
    "dt = T / steps                              #step duration\n",
    "vol = 0.2                                   #volatility\n"
   ]
  },
  {
   "cell_type": "markdown",
   "metadata": {},
   "source": [
    "### Script to calculate European/American call/put option prices"
   ]
  },
  {
   "cell_type": "code",
   "execution_count": 12,
   "metadata": {},
   "outputs": [],
   "source": [
    "#calculating step-by-step option value\n",
    "def calculateOptionValue (fu, fd, u, d):\n",
    "    p = (math.exp(r*dt) - d) / (u - d)\n",
    "    fvalue = (p*fu + (1-p)*fd) * math.exp(-r*dt)\n",
    "    return fvalue\n",
    "\n",
    "#main function\n",
    "def optionValuation (S_0, K, steps, optionKind, optionType, vol):\n",
    "    \n",
    "    #calculating volatility\n",
    "    u = math.exp(vol * math.sqrt(dt))           #upward volatility\n",
    "    d = math.exp(-(vol * math.sqrt(dt)))        #downward volatility\n",
    "\n",
    "    #generate table with all associated asset prices\n",
    "    table = []\n",
    "    for i in range(0, steps+1):\n",
    "        table.append([])\n",
    "        for j in range(0, i+1):\n",
    "            table[i].append(S_0 * (u ** (i-j)) * (d ** j) )\n",
    "    table.reverse()\n",
    "\n",
    "    #generate table with all associated option prices\n",
    "    table_prices = []\n",
    "    for i in range(len(table)):\n",
    "        table_prices.append([])\n",
    "        if i == 0:\n",
    "            for j in range(len(table[i])):\n",
    "                if optionType == \"CALL\":\n",
    "                    table_prices[i].append(max(table[i][j]-K,0))\n",
    "                elif optionType == \"PUT\":\n",
    "                    table_prices[i].append(max(K-table[i][j],0))\n",
    "        else:\n",
    "            for j in range(len(table[i])):\n",
    "                if optionKind == \"EUR\":\n",
    "                    table_prices[i].append(calculateOptionValue (table_prices[i-1][j], table_prices[i-1][j+1], u, d))\n",
    "                elif optionKind == \"US\":\n",
    "                    if optionType == \"CALL\":\n",
    "                        optionValue = calculateOptionValue (table_prices[i-1][j], table_prices[i-1][j+1], u, d)\n",
    "                        payOff = table[i][j] - K\n",
    "                        if payOff > optionValue:\n",
    "                            table_prices[i].append(payOff)\n",
    "                        else:\n",
    "                            table_prices[i].append(optionValue)\n",
    "                    elif optionType == \"PUT\":\n",
    "                        optionValue = calculateOptionValue (table_prices[i-1][j], table_prices[i-1][j+1], u, d)\n",
    "                        payOff =  K - table[i][j]\n",
    "                        if payOff > optionValue:\n",
    "                            table_prices[i].append(payOff)\n",
    "                        else:\n",
    "                            table_prices[i].append(optionValue)\n",
    "                        \n",
    "    return table_prices[-1][0]"
   ]
  },
  {
   "cell_type": "code",
   "execution_count": 13,
   "metadata": {},
   "outputs": [
    {
     "data": {
      "text/plain": [
       "1.6368767086762772"
      ]
     },
     "execution_count": 13,
     "metadata": {},
     "output_type": "execute_result"
    }
   ],
   "source": [
    "optionValuation(S_0, K, steps, optionKind, optionType, 0.4) / optionValuation(S_0, K, steps, optionKind, optionType, 0.2)"
   ]
  },
  {
   "cell_type": "code",
   "execution_count": 14,
   "metadata": {},
   "outputs": [
    {
     "name": "stdout",
     "output_type": "stream",
     "text": [
      "[6.7653111751591615, 6.765370752219661, 6.773564829292386, 6.824064900381636, 6.939838639622885, 7.112843391211868, 7.330178087285554, 7.580654607357224, 7.855900482353064, 8.149874356970908, 8.458224734572354, 8.777783768946163, 9.106210415815768, 9.441746494962045, 9.783050411398213, 10.129082872835783, 10.479027331848684, 10.832233794892014, 11.188178544803918, 11.546434850755071, 11.906651373040361, 12.26853603297133, 12.631843817153106, 12.996367450918159, 13.361930189752332, 13.728380192247963, 14.09558608679836, 14.463433448491738, 14.831821976632131, 15.200663216397928, 15.569878706655834, 15.939398464168546, 16.309159735319707, 16.67910596207209, 17.049185920626048, 17.41935300016673, 17.78956459591837, 18.1597815959927, 18.52996794560752, 18.900090275449024, 19.270117583467552, 19.640020961388675, 20.00977335880422, 20.379349378979608, 20.74872510153319, 21.117877927968525, 21.486786446713083, 21.855430314864517, 22.22379015429195, 22.591847460113826]\n"
     ]
    }
   ],
   "source": [
    "optionValuesVol = []\n",
    "xvalues = []\n",
    "\n",
    "                       \n",
    "for i in range(50):\n",
    "    optionValuesVol.append(optionValuation(S_0, K, steps, optionKind, optionType, (i+1)/100))\n",
    "    xvalues.append(i)\n",
    "print(optionValuesVol)"
   ]
  },
  {
   "cell_type": "code",
   "execution_count": 16,
   "metadata": {},
   "outputs": [
    {
     "data": {
      "text/plain": [
       "Text(0,0.5,'Bar')"
      ]
     },
     "execution_count": 16,
     "metadata": {},
     "output_type": "execute_result"
    },
    {
     "data": {
      "image/png": "[encoded data removed]",
      "text/plain": [
       "<matplotlib.figure.Figure at 0x108063198>"
      ]
     },
     "metadata": {},
     "output_type": "display_data"
    }
   ],
   "source": [
    "\n",
    "from matplotlib import pyplot as plt\n",
    "import pandas as pd\n",
    "\n",
    "s = pd.Series(optionValuesVol, xvalues)\n",
    "\n",
    "s.plot.bar()\n",
    "plt.xlabel('Foo')\n",
    "plt.ylabel('Bar')"
   ]
  },
  {
   "cell_type": "code",
   "execution_count": null,
   "metadata": {
    "collapsed": true
   },
   "outputs": [],
   "source": []
  }
 ],
 "metadata": {
  "kernelspec": {
   "display_name": "Python 3",
   "language": "python",
   "name": "python3"
  },
  "language_info": {
   "codemirror_mode": {
    "name": "ipython",
    "version": 3
   },
   "file_extension": ".py",
   "mimetype": "text/x-python",
   "name": "python",
   "nbconvert_exporter": "python",
   "pygments_lexer": "ipython3",
   "version": "3.6.4"
  }
 },
 "nbformat": 4,
 "nbformat_minor": 2
}
